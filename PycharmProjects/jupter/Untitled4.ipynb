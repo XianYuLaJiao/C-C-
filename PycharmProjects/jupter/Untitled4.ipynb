{
 "cells": [
  {
   "cell_type": "code",
   "execution_count": 4,
   "metadata": {},
   "outputs": [],
   "source": [
    "import re \n",
    "m = re.match('aaa','saaaa')\n",
    "m"
   ]
  },
  {
   "cell_type": "code",
   "execution_count": 5,
   "metadata": {},
   "outputs": [
    {
     "ename": "AttributeError",
     "evalue": "'NoneType' object has no attribute 'group'",
     "output_type": "error",
     "traceback": [
      "\u001b[1;31m---------------------------------------------------------------------------\u001b[0m",
      "\u001b[1;31mAttributeError\u001b[0m                            Traceback (most recent call last)",
      "\u001b[1;32m<ipython-input-5-b9a6738fa293>\u001b[0m in \u001b[0;36m<module>\u001b[1;34m\u001b[0m\n\u001b[1;32m----> 1\u001b[1;33m \u001b[0mm\u001b[0m\u001b[1;33m.\u001b[0m\u001b[0mgroup\u001b[0m\u001b[1;33m(\u001b[0m\u001b[1;33m)\u001b[0m\u001b[1;33m\u001b[0m\u001b[1;33m\u001b[0m\u001b[0m\n\u001b[0m",
      "\u001b[1;31mAttributeError\u001b[0m: 'NoneType' object has no attribute 'group'"
     ]
    }
   ],
   "source": [
    "m.group()"
   ]
  },
  {
   "cell_type": "code",
   "execution_count": 6,
   "metadata": {},
   "outputs": [
    {
     "data": {
      "text/plain": [
       "'1'"
      ]
     },
     "execution_count": 6,
     "metadata": {},
     "output_type": "execute_result"
    }
   ],
   "source": [
    "m = re.match('\\d', '1')\n",
    "m.group()"
   ]
  },
  {
   "cell_type": "code",
   "execution_count": 8,
   "metadata": {},
   "outputs": [],
   "source": [
    "re.match('\\w','\\nsds')"
   ]
  },
  {
   "cell_type": "code",
   "execution_count": 13,
   "metadata": {},
   "outputs": [
    {
     "data": {
      "text/plain": [
       "'15271245657'"
      ]
     },
     "execution_count": 13,
     "metadata": {},
     "output_type": "execute_result"
    }
   ],
   "source": [
    "m = re.match('1\\d\\d\\d\\d\\d\\d\\d\\d\\d\\d','15271245657')\n",
    "m.group()"
   ]
  },
  {
   "cell_type": "code",
   "execution_count": 14,
   "metadata": {},
   "outputs": [
    {
     "data": {
      "text/plain": [
       "<re.Match object; span=(0, 2), match='1s'>"
      ]
     },
     "execution_count": 14,
     "metadata": {},
     "output_type": "execute_result"
    }
   ],
   "source": [
    "re.match('1[a-z5-9]','1sd')"
   ]
  },
  {
   "cell_type": "code",
   "execution_count": 16,
   "metadata": {},
   "outputs": [
    {
     "data": {
      "text/plain": [
       "<re.Match object; span=(0, 2), match='1a'>"
      ]
     },
     "execution_count": 16,
     "metadata": {},
     "output_type": "execute_result"
    }
   ],
   "source": [
    "re.match('\\d?\\w','1asx554')"
   ]
  },
  {
   "cell_type": "code",
   "execution_count": 18,
   "metadata": {},
   "outputs": [
    {
     "data": {
      "text/plain": [
       "'15271245657'"
      ]
     },
     "execution_count": 18,
     "metadata": {},
     "output_type": "execute_result"
    }
   ],
   "source": [
    "m = re.match('1[3578]\\d{9}','15271245657')\n",
    "m.group()"
   ]
  },
  {
   "cell_type": "code",
   "execution_count": 22,
   "metadata": {},
   "outputs": [
    {
     "data": {
      "text/plain": [
       "'15271245657'"
      ]
     },
     "execution_count": 22,
     "metadata": {},
     "output_type": "execute_result"
    }
   ],
   "source": [
    "m =re.match(r'1[356789]\\d{9}$','15271245657')\n",
    "m.group()"
   ]
  },
  {
   "cell_type": "code",
   "execution_count": 2,
   "metadata": {
    "scrolled": true
   },
   "outputs": [
    {
     "ename": "AttributeError",
     "evalue": "'NoneType' object has no attribute 'group'",
     "output_type": "error",
     "traceback": [
      "\u001b[1;31m---------------------------------------------------------------------------\u001b[0m",
      "\u001b[1;31mAttributeError\u001b[0m                            Traceback (most recent call last)",
      "\u001b[1;32m<ipython-input-2-8907c7e59f4b>\u001b[0m in \u001b[0;36m<module>\u001b[1;34m\u001b[0m\n\u001b[0;32m      1\u001b[0m \u001b[1;32mimport\u001b[0m \u001b[0mre\u001b[0m\u001b[1;33m\u001b[0m\u001b[1;33m\u001b[0m\u001b[0m\n\u001b[0;32m      2\u001b[0m \u001b[0mm\u001b[0m \u001b[1;33m=\u001b[0m \u001b[0mre\u001b[0m\u001b[1;33m.\u001b[0m\u001b[0mmatch\u001b[0m\u001b[1;33m(\u001b[0m\u001b[1;34mr'^\\w+ve\\b'\u001b[0m\u001b[1;33m,\u001b[0m\u001b[1;34m'hover'\u001b[0m\u001b[1;33m)\u001b[0m\u001b[1;33m\u001b[0m\u001b[1;33m\u001b[0m\u001b[0m\n\u001b[1;32m----> 3\u001b[1;33m \u001b[0mm\u001b[0m\u001b[1;33m.\u001b[0m\u001b[0mgroup\u001b[0m\u001b[1;33m(\u001b[0m\u001b[1;33m)\u001b[0m\u001b[1;33m\u001b[0m\u001b[1;33m\u001b[0m\u001b[0m\n\u001b[0m",
      "\u001b[1;31mAttributeError\u001b[0m: 'NoneType' object has no attribute 'group'"
     ]
    }
   ],
   "source": [
    "import re\n",
    "m = re.match(r'^\\w+ve\\b','hover')\n",
    "m.group()"
   ]
  },
  {
   "cell_type": "code",
   "execution_count": 3,
   "metadata": {},
   "outputs": [
    {
     "data": {
      "text/plain": [
       "'hove'"
      ]
     },
     "execution_count": 3,
     "metadata": {},
     "output_type": "execute_result"
    }
   ],
   "source": [
    "m = re.match(r'^\\w+ve\\b','hove r')\n",
    "m.group()"
   ]
  },
  {
   "cell_type": "code",
   "execution_count": 5,
   "metadata": {
    "scrolled": true
   },
   "outputs": [
    {
     "ename": "AttributeError",
     "evalue": "'NoneType' object has no attribute 'group'",
     "output_type": "error",
     "traceback": [
      "\u001b[1;31m---------------------------------------------------------------------------\u001b[0m",
      "\u001b[1;31mAttributeError\u001b[0m                            Traceback (most recent call last)",
      "\u001b[1;32m<ipython-input-5-5ae9217438a1>\u001b[0m in \u001b[0;36m<module>\u001b[1;34m\u001b[0m\n\u001b[0;32m      1\u001b[0m \u001b[0mm\u001b[0m \u001b[1;33m=\u001b[0m \u001b[0mre\u001b[0m\u001b[1;33m.\u001b[0m\u001b[0mmatch\u001b[0m\u001b[1;33m(\u001b[0m\u001b[1;34mr'^\\w+\\bve\\b'\u001b[0m\u001b[1;33m,\u001b[0m\u001b[1;34m'hove r'\u001b[0m\u001b[1;33m)\u001b[0m\u001b[1;33m\u001b[0m\u001b[1;33m\u001b[0m\u001b[0m\n\u001b[1;32m----> 2\u001b[1;33m \u001b[0mm\u001b[0m\u001b[1;33m.\u001b[0m\u001b[0mgroup\u001b[0m\u001b[1;33m(\u001b[0m\u001b[1;33m)\u001b[0m\u001b[1;33m\u001b[0m\u001b[1;33m\u001b[0m\u001b[0m\n\u001b[0m",
      "\u001b[1;31mAttributeError\u001b[0m: 'NoneType' object has no attribute 'group'"
     ]
    }
   ],
   "source": [
    "m = re.match(r'^\\w+\\bve\\b','hove r')\n",
    "m.group()"
   ]
  },
  {
   "cell_type": "code",
   "execution_count": 6,
   "metadata": {},
   "outputs": [
    {
     "ename": "AttributeError",
     "evalue": "'NoneType' object has no attribute 'group'",
     "output_type": "error",
     "traceback": [
      "\u001b[1;31m---------------------------------------------------------------------------\u001b[0m",
      "\u001b[1;31mAttributeError\u001b[0m                            Traceback (most recent call last)",
      "\u001b[1;32m<ipython-input-6-f5d56272dfdb>\u001b[0m in \u001b[0;36m<module>\u001b[1;34m\u001b[0m\n\u001b[0;32m      1\u001b[0m \u001b[0mm\u001b[0m \u001b[1;33m=\u001b[0m \u001b[0mre\u001b[0m\u001b[1;33m.\u001b[0m\u001b[0mmatch\u001b[0m\u001b[1;33m(\u001b[0m\u001b[1;34mr'^\\w+\\bve\\b'\u001b[0m\u001b[1;33m,\u001b[0m\u001b[1;34m'ho ve r'\u001b[0m\u001b[1;33m)\u001b[0m\u001b[1;33m\u001b[0m\u001b[1;33m\u001b[0m\u001b[0m\n\u001b[1;32m----> 2\u001b[1;33m \u001b[0mm\u001b[0m\u001b[1;33m.\u001b[0m\u001b[0mgroup\u001b[0m\u001b[1;33m(\u001b[0m\u001b[1;33m)\u001b[0m\u001b[1;33m\u001b[0m\u001b[1;33m\u001b[0m\u001b[0m\n\u001b[0m",
      "\u001b[1;31mAttributeError\u001b[0m: 'NoneType' object has no attribute 'group'"
     ]
    }
   ],
   "source": [
    "m = re.match(r'^\\w+\\bve\\b','ho ve r')\n",
    "m.group()"
   ]
  },
  {
   "cell_type": "code",
   "execution_count": 8,
   "metadata": {},
   "outputs": [
    {
     "data": {
      "text/plain": [
       "'hp ve r'"
      ]
     },
     "execution_count": 8,
     "metadata": {},
     "output_type": "execute_result"
    }
   ],
   "source": [
    "m = re.match(r'^\\w+\\s\\bve\\b.*','hp ve r')\n",
    "m.group()"
   ]
  },
  {
   "cell_type": "code",
   "execution_count": 13,
   "metadata": {},
   "outputs": [
    {
     "data": {
      "text/plain": [
       "<re.Match object; span=(0, 3), match='100'>"
      ]
     },
     "execution_count": 13,
     "metadata": {},
     "output_type": "execute_result"
    }
   ],
   "source": [
    "re.match(r'[1-9][0-9]$|[0-9]$|100$','100')"
   ]
  },
  {
   "cell_type": "code",
   "execution_count": 15,
   "metadata": {},
   "outputs": [
    {
     "data": {
      "text/plain": [
       "<re.Match object; span=(0, 1), match='0'>"
      ]
     },
     "execution_count": 15,
     "metadata": {},
     "output_type": "execute_result"
    }
   ],
   "source": [
    "re.match(r'[1-9]?\\d?$|100$','0')"
   ]
  },
  {
   "cell_type": "code",
   "execution_count": 35,
   "metadata": {},
   "outputs": [
    {
     "data": {
      "text/plain": [
       "('L100F_07LX', '1.425')"
      ]
     },
     "execution_count": 35,
     "metadata": {},
     "output_type": "execute_result"
    }
   ],
   "source": [
    "m = re.match(r'^TA[(](\\w*)[)].*(\\d.\\d{3})','TA(L100F_07LX) = TOL/CORTOL, XAXIS, 1.425, INTOL\\n')\n",
    "m.groups()"
   ]
  },
  {
   "cell_type": "code",
   "execution_count": 43,
   "metadata": {},
   "outputs": [
    {
     "data": {
      "text/plain": [
       "'L100F_07L'"
      ]
     },
     "execution_count": 43,
     "metadata": {},
     "output_type": "execute_result"
    }
   ],
   "source": [
    "elematch = re.match(r'OUTPUT/\\sFA[(](\\w*)[)]', 'OUTPUT/ FA(L100F_07L), TA(L100F_07LX)')\n",
    "name = elematch.group(1)\n",
    "name"
   ]
  },
  {
   "cell_type": "code",
   "execution_count": 51,
   "metadata": {},
   "outputs": [
    {
     "data": {
      "text/plain": [
       "[' 50.205']"
      ]
     },
     "execution_count": 51,
     "metadata": {},
     "output_type": "execute_result"
    }
   ],
   "source": [
    "import re\n",
    "value = re.findall(r'.*,(\\s\\d+\\.\\d{3}),.*', 'FA(L100F_07L) = FEAT/POINT, CART, 50.205, 0.000, 0.000, '                                                         '0.000000000,$')\n",
    "value\n"
   ]
  },
  {
   "cell_type": "code",
   "execution_count": 56,
   "metadata": {},
   "outputs": [
    {
     "data": {
      "text/html": [
       "<div>\n",
       "<style scoped>\n",
       "    .dataframe tbody tr th:only-of-type {\n",
       "        vertical-align: middle;\n",
       "    }\n",
       "\n",
       "    .dataframe tbody tr th {\n",
       "        vertical-align: top;\n",
       "    }\n",
       "\n",
       "    .dataframe thead th {\n",
       "        text-align: right;\n",
       "    }\n",
       "</style>\n",
       "<table border=\"1\" class=\"dataframe\">\n",
       "  <thead>\n",
       "    <tr style=\"text-align: right;\">\n",
       "      <th>数据名称</th>\n",
       "      <th>X轴坐标</th>\n",
       "      <th>X轴偏差</th>\n",
       "      <th>Y轴坐标</th>\n",
       "      <th>Y轴偏差</th>\n",
       "      <th>Z轴坐标</th>\n",
       "      <th>Z轴偏差</th>\n",
       "    </tr>\n",
       "    <tr>\n",
       "      <th>焊点编号</th>\n",
       "      <th></th>\n",
       "      <th></th>\n",
       "      <th></th>\n",
       "      <th></th>\n",
       "      <th></th>\n",
       "      <th></th>\n",
       "    </tr>\n",
       "  </thead>\n",
       "  <tbody>\n",
       "    <tr>\n",
       "      <th>L100F_07L</th>\n",
       "      <td>50.205</td>\n",
       "      <td>1.425</td>\n",
       "      <td>499.956</td>\n",
       "      <td>-1.204</td>\n",
       "      <td>623.537</td>\n",
       "      <td>-0.063</td>\n",
       "    </tr>\n",
       "    <tr>\n",
       "      <th>L100F_08L</th>\n",
       "      <td>-31.486</td>\n",
       "      <td>1.254</td>\n",
       "      <td>571.295</td>\n",
       "      <td>-1.935</td>\n",
       "      <td>639.368</td>\n",
       "      <td>1.298</td>\n",
       "    </tr>\n",
       "    <tr>\n",
       "      <th>L100F_05R</th>\n",
       "      <td>64.816</td>\n",
       "      <td>0.876</td>\n",
       "      <td>623.849</td>\n",
       "      <td>-1.341</td>\n",
       "      <td>639.474</td>\n",
       "      <td>0.314</td>\n",
       "    </tr>\n",
       "    <tr>\n",
       "      <th>L100PR17R</th>\n",
       "      <td>None</td>\n",
       "      <td>None</td>\n",
       "      <td>None</td>\n",
       "      <td>None</td>\n",
       "      <td>804.762</td>\n",
       "      <td>1.102</td>\n",
       "    </tr>\n",
       "    <tr>\n",
       "      <th>L100PR18R</th>\n",
       "      <td>None</td>\n",
       "      <td>None</td>\n",
       "      <td>None</td>\n",
       "      <td>None</td>\n",
       "      <td>822.963</td>\n",
       "      <td>-0.937</td>\n",
       "    </tr>\n",
       "    <tr>\n",
       "      <th>L100PR20R</th>\n",
       "      <td>305.946</td>\n",
       "      <td>-1.054</td>\n",
       "      <td>514.845</td>\n",
       "      <td>-1.155</td>\n",
       "      <td>None</td>\n",
       "      <td>None</td>\n",
       "    </tr>\n",
       "    <tr>\n",
       "      <th>L100PR22R</th>\n",
       "      <td>None</td>\n",
       "      <td>None</td>\n",
       "      <td>667.626</td>\n",
       "      <td>-0.374</td>\n",
       "      <td>502.678</td>\n",
       "      <td>0.678</td>\n",
       "    </tr>\n",
       "    <tr>\n",
       "      <th>L100PR05R</th>\n",
       "      <td>728.929</td>\n",
       "      <td>-1.071</td>\n",
       "      <td>None</td>\n",
       "      <td>None</td>\n",
       "      <td>None</td>\n",
       "      <td>None</td>\n",
       "    </tr>\n",
       "    <tr>\n",
       "      <th>L200A_03R02</th>\n",
       "      <td>1018.102</td>\n",
       "      <td>-0.418</td>\n",
       "      <td>188.610</td>\n",
       "      <td>-0.240</td>\n",
       "      <td>132.726</td>\n",
       "      <td>0.726</td>\n",
       "    </tr>\n",
       "    <tr>\n",
       "      <th>L200A_03R</th>\n",
       "      <td>982.615</td>\n",
       "      <td>-0.155</td>\n",
       "      <td>188.776</td>\n",
       "      <td>-0.084</td>\n",
       "      <td>126.706</td>\n",
       "      <td>0.836</td>\n",
       "    </tr>\n",
       "    <tr>\n",
       "      <th>L200A_04R02</th>\n",
       "      <td>1017.960</td>\n",
       "      <td>-0.540</td>\n",
       "      <td>510.756</td>\n",
       "      <td>-0.104</td>\n",
       "      <td>132.654</td>\n",
       "      <td>0.654</td>\n",
       "    </tr>\n",
       "    <tr>\n",
       "      <th>L200A_04R</th>\n",
       "      <td>982.548</td>\n",
       "      <td>-0.222</td>\n",
       "      <td>511.300</td>\n",
       "      <td>0.440</td>\n",
       "      <td>127.195</td>\n",
       "      <td>1.325</td>\n",
       "    </tr>\n",
       "    <tr>\n",
       "      <th>L200A_08R02</th>\n",
       "      <td>1389.075</td>\n",
       "      <td>1.075</td>\n",
       "      <td>475.494</td>\n",
       "      <td>-0.506</td>\n",
       "      <td>75.760</td>\n",
       "      <td>1.380</td>\n",
       "    </tr>\n",
       "    <tr>\n",
       "      <th>L200A_07R02</th>\n",
       "      <td>1388.027</td>\n",
       "      <td>0.027</td>\n",
       "      <td>299.602</td>\n",
       "      <td>-0.398</td>\n",
       "      <td>75.761</td>\n",
       "      <td>1.381</td>\n",
       "    </tr>\n",
       "    <tr>\n",
       "      <th>L100PR07R</th>\n",
       "      <td>None</td>\n",
       "      <td>None</td>\n",
       "      <td>None</td>\n",
       "      <td>None</td>\n",
       "      <td>18.317</td>\n",
       "      <td>2.017</td>\n",
       "    </tr>\n",
       "    <tr>\n",
       "      <th>L220A_10</th>\n",
       "      <td>2259.328</td>\n",
       "      <td>-0.672</td>\n",
       "      <td>643.632</td>\n",
       "      <td>-0.088</td>\n",
       "      <td>190.789</td>\n",
       "      <td>-0.691</td>\n",
       "    </tr>\n",
       "    <tr>\n",
       "      <th>L100PR012R</th>\n",
       "      <td>2096.117</td>\n",
       "      <td>-0.883</td>\n",
       "      <td>None</td>\n",
       "      <td>None</td>\n",
       "      <td>193.804</td>\n",
       "      <td>-0.316</td>\n",
       "    </tr>\n",
       "    <tr>\n",
       "      <th>L220A_12L</th>\n",
       "      <td>2292.586</td>\n",
       "      <td>0.586</td>\n",
       "      <td>180.113</td>\n",
       "      <td>0.113</td>\n",
       "      <td>191.138</td>\n",
       "      <td>-1.792</td>\n",
       "    </tr>\n",
       "    <tr>\n",
       "      <th>L220A_15L04</th>\n",
       "      <td>2449.972</td>\n",
       "      <td>-0.028</td>\n",
       "      <td>148.349</td>\n",
       "      <td>0.349</td>\n",
       "      <td>193.663</td>\n",
       "      <td>-1.157</td>\n",
       "    </tr>\n",
       "    <tr>\n",
       "      <th>L220A_15L</th>\n",
       "      <td>2450.299</td>\n",
       "      <td>0.299</td>\n",
       "      <td>100.133</td>\n",
       "      <td>0.133</td>\n",
       "      <td>194.601</td>\n",
       "      <td>-0.219</td>\n",
       "    </tr>\n",
       "    <tr>\n",
       "      <th>L220A_15L02</th>\n",
       "      <td>2510.545</td>\n",
       "      <td>0.545</td>\n",
       "      <td>100.868</td>\n",
       "      <td>0.868</td>\n",
       "      <td>194.054</td>\n",
       "      <td>-0.766</td>\n",
       "    </tr>\n",
       "    <tr>\n",
       "      <th>L220A_15L03</th>\n",
       "      <td>2510.056</td>\n",
       "      <td>0.056</td>\n",
       "      <td>149.179</td>\n",
       "      <td>1.179</td>\n",
       "      <td>194.041</td>\n",
       "      <td>-0.779</td>\n",
       "    </tr>\n",
       "    <tr>\n",
       "      <th>L220A_14</th>\n",
       "      <td>2470.523</td>\n",
       "      <td>-1.477</td>\n",
       "      <td>262.696</td>\n",
       "      <td>-2.304</td>\n",
       "      <td>192.525</td>\n",
       "      <td>-1.595</td>\n",
       "    </tr>\n",
       "    <tr>\n",
       "      <th>L220PR13R</th>\n",
       "      <td>3207.780</td>\n",
       "      <td>-1.220</td>\n",
       "      <td>437.894</td>\n",
       "      <td>-0.106</td>\n",
       "      <td>255.626</td>\n",
       "      <td>-0.674</td>\n",
       "    </tr>\n",
       "    <tr>\n",
       "      <th>L100F_17R</th>\n",
       "      <td>2486.222</td>\n",
       "      <td>0.222</td>\n",
       "      <td>511.677</td>\n",
       "      <td>-0.823</td>\n",
       "      <td>79.140</td>\n",
       "      <td>-0.860</td>\n",
       "    </tr>\n",
       "    <tr>\n",
       "      <th>L100F_05L</th>\n",
       "      <td>52.511</td>\n",
       "      <td>3.731</td>\n",
       "      <td>-503.193</td>\n",
       "      <td>-2.033</td>\n",
       "      <td>623.122</td>\n",
       "      <td>-0.478</td>\n",
       "    </tr>\n",
       "    <tr>\n",
       "      <th>L100F_06L</th>\n",
       "      <td>-28.680</td>\n",
       "      <td>4.060</td>\n",
       "      <td>-574.736</td>\n",
       "      <td>-1.506</td>\n",
       "      <td>637.669</td>\n",
       "      <td>-0.401</td>\n",
       "    </tr>\n",
       "    <tr>\n",
       "      <th>L100F_05L02</th>\n",
       "      <td>67.341</td>\n",
       "      <td>3.401</td>\n",
       "      <td>-627.216</td>\n",
       "      <td>-2.026</td>\n",
       "      <td>637.883</td>\n",
       "      <td>-1.277</td>\n",
       "    </tr>\n",
       "    <tr>\n",
       "      <th>L150PR15L</th>\n",
       "      <td>None</td>\n",
       "      <td>None</td>\n",
       "      <td>None</td>\n",
       "      <td>None</td>\n",
       "      <td>804.519</td>\n",
       "      <td>0.859</td>\n",
       "    </tr>\n",
       "    <tr>\n",
       "      <th>L150PR16L</th>\n",
       "      <td>None</td>\n",
       "      <td>None</td>\n",
       "      <td>None</td>\n",
       "      <td>None</td>\n",
       "      <td>821.771</td>\n",
       "      <td>-2.129</td>\n",
       "    </tr>\n",
       "    <tr>\n",
       "      <th>L100PR19L</th>\n",
       "      <td>307.209</td>\n",
       "      <td>0.209</td>\n",
       "      <td>-517.466</td>\n",
       "      <td>-1.466</td>\n",
       "      <td>None</td>\n",
       "      <td>None</td>\n",
       "    </tr>\n",
       "    <tr>\n",
       "      <th>L100PR21L</th>\n",
       "      <td>None</td>\n",
       "      <td>None</td>\n",
       "      <td>-668.739</td>\n",
       "      <td>-0.739</td>\n",
       "      <td>502.635</td>\n",
       "      <td>0.635</td>\n",
       "    </tr>\n",
       "    <tr>\n",
       "      <th>L100PR06L</th>\n",
       "      <td>729.548</td>\n",
       "      <td>-0.452</td>\n",
       "      <td>None</td>\n",
       "      <td>None</td>\n",
       "      <td>None</td>\n",
       "      <td>None</td>\n",
       "    </tr>\n",
       "    <tr>\n",
       "      <th>L200A_02L02</th>\n",
       "      <td>1018.849</td>\n",
       "      <td>0.329</td>\n",
       "      <td>-189.164</td>\n",
       "      <td>-0.314</td>\n",
       "      <td>132.175</td>\n",
       "      <td>0.175</td>\n",
       "    </tr>\n",
       "    <tr>\n",
       "      <th>L200A_02L</th>\n",
       "      <td>983.683</td>\n",
       "      <td>1.123</td>\n",
       "      <td>-189.037</td>\n",
       "      <td>-0.177</td>\n",
       "      <td>127.549</td>\n",
       "      <td>0.499</td>\n",
       "    </tr>\n",
       "    <tr>\n",
       "      <th>L200A_01L</th>\n",
       "      <td>983.052</td>\n",
       "      <td>0.672</td>\n",
       "      <td>-516.548</td>\n",
       "      <td>-5.688</td>\n",
       "      <td>127.774</td>\n",
       "      <td>-10.266</td>\n",
       "    </tr>\n",
       "    <tr>\n",
       "      <th>L200A_05L</th>\n",
       "      <td>1385.152</td>\n",
       "      <td>0.822</td>\n",
       "      <td>-595.269</td>\n",
       "      <td>0.121</td>\n",
       "      <td>103.539</td>\n",
       "      <td>-0.021</td>\n",
       "    </tr>\n",
       "    <tr>\n",
       "      <th>L200A_05L02</th>\n",
       "      <td>1388.969</td>\n",
       "      <td>0.969</td>\n",
       "      <td>-476.393</td>\n",
       "      <td>-0.393</td>\n",
       "      <td>73.830</td>\n",
       "      <td>-0.550</td>\n",
       "    </tr>\n",
       "    <tr>\n",
       "      <th>L200A_06L02</th>\n",
       "      <td>1388.773</td>\n",
       "      <td>3.773</td>\n",
       "      <td>-300.214</td>\n",
       "      <td>-0.214</td>\n",
       "      <td>75.236</td>\n",
       "      <td>-8.144</td>\n",
       "    </tr>\n",
       "    <tr>\n",
       "      <th>L200A_06L</th>\n",
       "      <td>1388.740</td>\n",
       "      <td>-1.390</td>\n",
       "      <td>-150.500</td>\n",
       "      <td>-1.260</td>\n",
       "      <td>106.982</td>\n",
       "      <td>6.432</td>\n",
       "    </tr>\n",
       "    <tr>\n",
       "      <th>L100PR08L</th>\n",
       "      <td>None</td>\n",
       "      <td>None</td>\n",
       "      <td>None</td>\n",
       "      <td>None</td>\n",
       "      <td>19.760</td>\n",
       "      <td>3.460</td>\n",
       "    </tr>\n",
       "    <tr>\n",
       "      <th>L220A_11</th>\n",
       "      <td>2290.571</td>\n",
       "      <td>-1.429</td>\n",
       "      <td>-180.963</td>\n",
       "      <td>-0.963</td>\n",
       "      <td>191.147</td>\n",
       "      <td>-1.783</td>\n",
       "    </tr>\n",
       "    <tr>\n",
       "      <th>L220A_13R</th>\n",
       "      <td>2471.436</td>\n",
       "      <td>-0.564</td>\n",
       "      <td>-265.813</td>\n",
       "      <td>-0.813</td>\n",
       "      <td>193.599</td>\n",
       "      <td>-0.521</td>\n",
       "    </tr>\n",
       "    <tr>\n",
       "      <th>L220A_9R</th>\n",
       "      <td>2259.886</td>\n",
       "      <td>-0.114</td>\n",
       "      <td>-645.291</td>\n",
       "      <td>-1.571</td>\n",
       "      <td>192.082</td>\n",
       "      <td>0.602</td>\n",
       "    </tr>\n",
       "    <tr>\n",
       "      <th>L220PR14L</th>\n",
       "      <td>3208.955</td>\n",
       "      <td>-0.045</td>\n",
       "      <td>-437.777</td>\n",
       "      <td>0.223</td>\n",
       "      <td>None</td>\n",
       "      <td>None</td>\n",
       "    </tr>\n",
       "  </tbody>\n",
       "</table>\n",
       "</div>"
      ],
      "text/plain": [
       "数据名称             X轴坐标    X轴偏差      Y轴坐标    Y轴偏差     Z轴坐标     Z轴偏差\n",
       "焊点编号                                                             \n",
       "L100F_07L      50.205   1.425   499.956  -1.204  623.537   -0.063\n",
       "L100F_08L     -31.486   1.254   571.295  -1.935  639.368    1.298\n",
       "L100F_05R      64.816   0.876   623.849  -1.341  639.474    0.314\n",
       "L100PR17R        None    None      None    None  804.762    1.102\n",
       "L100PR18R        None    None      None    None  822.963   -0.937\n",
       "L100PR20R     305.946  -1.054   514.845  -1.155     None     None\n",
       "L100PR22R        None    None   667.626  -0.374  502.678    0.678\n",
       "L100PR05R     728.929  -1.071      None    None     None     None\n",
       "L200A_03R02  1018.102  -0.418   188.610  -0.240  132.726    0.726\n",
       "L200A_03R     982.615  -0.155   188.776  -0.084  126.706    0.836\n",
       "L200A_04R02  1017.960  -0.540   510.756  -0.104  132.654    0.654\n",
       "L200A_04R     982.548  -0.222   511.300   0.440  127.195    1.325\n",
       "L200A_08R02  1389.075   1.075   475.494  -0.506   75.760    1.380\n",
       "L200A_07R02  1388.027   0.027   299.602  -0.398   75.761    1.381\n",
       "L100PR07R        None    None      None    None   18.317    2.017\n",
       "L220A_10     2259.328  -0.672   643.632  -0.088  190.789   -0.691\n",
       "L100PR012R   2096.117  -0.883      None    None  193.804   -0.316\n",
       "L220A_12L    2292.586   0.586   180.113   0.113  191.138   -1.792\n",
       "L220A_15L04  2449.972  -0.028   148.349   0.349  193.663   -1.157\n",
       "L220A_15L    2450.299   0.299   100.133   0.133  194.601   -0.219\n",
       "L220A_15L02  2510.545   0.545   100.868   0.868  194.054   -0.766\n",
       "L220A_15L03  2510.056   0.056   149.179   1.179  194.041   -0.779\n",
       "L220A_14     2470.523  -1.477   262.696  -2.304  192.525   -1.595\n",
       "L220PR13R    3207.780  -1.220   437.894  -0.106  255.626   -0.674\n",
       "L100F_17R    2486.222   0.222   511.677  -0.823   79.140   -0.860\n",
       "L100F_05L      52.511   3.731  -503.193  -2.033  623.122   -0.478\n",
       "L100F_06L     -28.680   4.060  -574.736  -1.506  637.669   -0.401\n",
       "L100F_05L02    67.341   3.401  -627.216  -2.026  637.883   -1.277\n",
       "L150PR15L        None    None      None    None  804.519    0.859\n",
       "L150PR16L        None    None      None    None  821.771   -2.129\n",
       "L100PR19L     307.209   0.209  -517.466  -1.466     None     None\n",
       "L100PR21L        None    None  -668.739  -0.739  502.635    0.635\n",
       "L100PR06L     729.548  -0.452      None    None     None     None\n",
       "L200A_02L02  1018.849   0.329  -189.164  -0.314  132.175    0.175\n",
       "L200A_02L     983.683   1.123  -189.037  -0.177  127.549    0.499\n",
       "L200A_01L     983.052   0.672  -516.548  -5.688  127.774  -10.266\n",
       "L200A_05L    1385.152   0.822  -595.269   0.121  103.539   -0.021\n",
       "L200A_05L02  1388.969   0.969  -476.393  -0.393   73.830   -0.550\n",
       "L200A_06L02  1388.773   3.773  -300.214  -0.214   75.236   -8.144\n",
       "L200A_06L    1388.740  -1.390  -150.500  -1.260  106.982    6.432\n",
       "L100PR08L        None    None      None    None   19.760    3.460\n",
       "L220A_11     2290.571  -1.429  -180.963  -0.963  191.147   -1.783\n",
       "L220A_13R    2471.436  -0.564  -265.813  -0.813  193.599   -0.521\n",
       "L220A_9R     2259.886  -0.114  -645.291  -1.571  192.082    0.602\n",
       "L220PR14L    3208.955  -0.045  -437.777   0.223     None     None"
      ]
     },
     "execution_count": 56,
     "metadata": {},
     "output_type": "execute_result"
    }
   ],
   "source": [
    "import re\n",
    "import pandas as pd\n",
    "\n",
    "datum = s = dataset = 0\n",
    "list1 = []\n",
    "datadict = {}\n",
    "none = [None, None, None, None, None, None]\n",
    "# 读取数据\n",
    "file = open(r'D:\\PycharmProjects\\DataMining\\JK-DataMining\\3CART Data\\16L024267_20200929065832.dmo', 'r', encoding='utf-8')\n",
    "data = file.readlines()\n",
    "file.close()\n",
    "\n",
    "\n",
    "# 根据UTPUT/ FA[(](.*)[)]提取焊点编号，切分列表数据\n",
    "\n",
    "def lis(ele):\n",
    "    element = re.match(r'OUTPUT/\\sFA[(](\\w*)[)]', ele)\n",
    "    if element:\n",
    "        name = element.group(1)\n",
    "    return element\n",
    "\n",
    "\n",
    "# # 清洗data删除’\\n‘\n",
    "# for n in data:\n",
    "#     n = re.sub(r'\\n', '', n)\n",
    "#     datanew.append(n)\n",
    "\n",
    "for i in data:\n",
    "    datum += 1\n",
    "    if lis(i):\n",
    "        list0 = data[dataset - 1:datum - 1]\n",
    "        list1.append(list0)\n",
    "        s += 1\n",
    "        dataset = datum\n",
    "\n",
    "data1 = list1[1:]\n",
    "\n",
    "for d in data1:\n",
    "    car = re.match(r'OUTPUT/\\sFA[(](\\w*)[)].*TA[(](.*)[)]', d[0])\n",
    "    if car.group(1) in datadict.keys():\n",
    "        key1 = car.group(1)\n",
    "        if car.group(2).endswith('X'):\n",
    "            datadict[key1][0] = re.findall(r'-?\\d+\\.\\d{3}', d[1])[0]\n",
    "            datadict[key1][1] = re.findall(r'-?\\d+\\.\\d{3}', d[3])[0]\n",
    "        elif car.group(2).endswith('Y'):\n",
    "            datadict[key1][2] = re.findall(r'-?\\d+\\.\\d{3}', d[1])[1]\n",
    "            datadict[key1][3] = re.findall(r'-?\\d+\\.\\d{3}', d[3])[0]\n",
    "        elif car.group(2).endswith('Z'):\n",
    "            datadict[key1][4] = re.findall(r'-?\\d+\\.\\d{3}', d[1])[2]\n",
    "            datadict[key1][5] = re.findall(r'-?\\d+\\.\\d{3}', d[3])[0]\n",
    "\n",
    "    elif car.group(1) not in datadict.keys():\n",
    "        key2 = car.group(1)\n",
    "        if car.group(2).endswith('X'):\n",
    "            none[0] = re.findall(r'-?\\d+\\.\\d{3}', d[1])[0]\n",
    "            none[1] = re.findall(r'-?\\d+\\.\\d{3}', d[3])[0]\n",
    "        elif car.group(2).endswith('Y'):\n",
    "            none[2] = re.findall(r'-?\\d+\\.\\d{3}', d[1])[1]\n",
    "            none[3] = re.findall(r'-?\\d+\\.\\d{3}', d[3])[0]\n",
    "        elif car.group(2).endswith('Z'):\n",
    "            none[4] = re.findall(r'-?\\d+\\.\\d{3}', d[1])[2]\n",
    "            none[5] = re.findall(r'-?\\d+\\.\\d{3}', d[3])[0]\n",
    "        datadict[key2] = none\n",
    "        none = [None, None, None, None, None, None]\n",
    "\n",
    "\n",
    "dataf = pd.DataFrame.from_dict(datadict, orient='index', columns=['X轴坐标', 'X轴偏差', 'Y轴坐标', 'Y轴偏差', 'Z轴坐标', 'Z轴偏差'])\n",
    "dataf.index.name = '焊点编号'\n",
    "dataf.columns.name = '数据名称'\n",
    "dataf"
   ]
  },
  {
   "cell_type": "code",
   "execution_count": null,
   "metadata": {},
   "outputs": [],
   "source": []
  }
 ],
 "metadata": {
  "kernelspec": {
   "display_name": "Python 3",
   "language": "python",
   "name": "python3"
  },
  "language_info": {
   "codemirror_mode": {
    "name": "ipython",
    "version": 3
   },
   "file_extension": ".py",
   "mimetype": "text/x-python",
   "name": "python",
   "nbconvert_exporter": "python",
   "pygments_lexer": "ipython3",
   "version": "3.8.3"
  }
 },
 "nbformat": 4,
 "nbformat_minor": 4
}
