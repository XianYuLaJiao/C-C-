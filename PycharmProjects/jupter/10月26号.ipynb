{
 "cells": [
  {
   "cell_type": "code",
   "execution_count": 7,
   "metadata": {},
   "outputs": [
    {
     "data": {
      "text/plain": [
       "<seaborn.axisgrid.FacetGrid at 0x1a355029d30>"
      ]
     },
     "execution_count": 7,
     "metadata": {},
     "output_type": "execute_result"
    },
    {
     "data": {
      "image/png": "[encoded data removed]",
      "text/plain": [
       "<Figure size 360x360 with 1 Axes>"
      ]
     },
     "metadata": {
      "needs_background": "light"
     },
     "output_type": "display_data"
    }
   ],
   "source": [
    "import numpy as np\n",
    "import pandas as pd\n",
    "import seaborn as sns\n",
    "income = pd.read_csv(r'D:\\学习资料\\从零开始学习python数据分析与挖掘源码PPT\\第7章 线性回归模型\\Salary_Data.csv')\n",
    "sns.lmplot(x='YearsExperience',y='Salary', data = income, ci = None)\n"
   ]
  },
  {
   "cell_type": "code",
   "execution_count": 34,
   "metadata": {},
   "outputs": [
    {
     "data": {
      "text/plain": [
       "(25792.200198668666, 9449.962321455081)"
      ]
     },
     "execution_count": 34,
     "metadata": {},
     "output_type": "execute_result"
    }
   ],
   "source": [
    "n = income.shape[0]\n",
    "x = income.YearsExperience\n",
    "y = income.Salary\n",
    "x_sum = x.sum()\n",
    "y_sum = y.sum()\n",
    "xy = x*y\n",
    "xy_sum = xy.sum()\n",
    "x2_sum = x.pow(2).sum()\n",
    "b = (xy_sum - x_sum*y_sum/n)/(x2_sum - x_sum**2/n)\n",
    "a = y_sum/n - b*x_sum/n\n",
    "a,b"
   ]
  },
  {
   "cell_type": "code",
   "execution_count": 35,
   "metadata": {},
   "outputs": [
    {
     "data": {
      "text/plain": [
       "Intercept          25792.200199\n",
       "YearsExperience     9449.962321\n",
       "dtype: float64"
      ]
     },
     "execution_count": 35,
     "metadata": {},
     "output_type": "execute_result"
    }
   ],
   "source": [
    "import statsmodels.api as sm\n",
    "fit = sm.formula.ols('Salary ~ YearsExperience', data = income).fit()\n",
    "fit.params"
   ]
  },
  {
   "cell_type": "code",
   "execution_count": 1,
   "metadata": {},
   "outputs": [
    {
     "name": "stdout",
     "output_type": "stream",
     "text": [
      "Parameters:  [11.60885711  3.        ]\n",
      "Standard errors:  [2.74160920e-15 4.73666023e-16]\n",
      "Predicted values:  [11.60885711 11.91188741 12.21491771 12.51794802 12.82097832 13.12400862\n",
      " 13.42703893 13.73006923 14.03309953 14.33612983 14.63916014 14.94219044\n",
      " 15.24522074 15.54825105 15.85128135 16.15431165 16.45734196 16.76037226\n",
      " 17.06340256 17.36643287 17.66946317 17.97249347 18.27552377 18.57855408\n",
      " 18.88158438 19.18461468 19.48764499 19.79067529 20.09370559 20.3967359\n",
      " 20.6997662  21.0027965  21.3058268  21.60885711 21.91188741 22.21491771\n",
      " 22.51794802 22.82097832 23.12400862 23.42703893 23.73006923 24.03309953\n",
      " 24.33612983 24.63916014 24.94219044 25.24522074 25.54825105 25.85128135\n",
      " 26.15431165 26.45734196 26.76037226 27.06340256 27.36643287 27.66946317\n",
      " 27.97249347 28.27552377 28.57855408 28.88158438 29.18461468 29.48764499\n",
      " 29.79067529 30.09370559 30.3967359  30.6997662  31.0027965  31.3058268\n",
      " 31.60885711 31.91188741 32.21491771 32.51794802 32.82097832 33.12400862\n",
      " 33.42703893 33.73006923 34.03309953 34.33612983 34.63916014 34.94219044\n",
      " 35.24522074 35.54825105 35.85128135 36.15431165 36.45734196 36.76037226\n",
      " 37.06340256 37.36643287 37.66946317 37.97249347 38.27552377 38.57855408\n",
      " 38.88158438 39.18461468 39.48764499 39.79067529 40.09370559 40.3967359\n",
      " 40.6997662  41.0027965  41.3058268  41.60885711]\n",
      "                            OLS Regression Results                            \n",
      "==============================================================================\n",
      "Dep. Variable:                      y   R-squared:                       1.000\n",
      "Model:                            OLS   Adj. R-squared:                  1.000\n",
      "Method:                 Least Squares   F-statistic:                 4.011e+31\n",
      "Date:                Wed, 28 Oct 2020   Prob (F-statistic):               0.00\n",
      "Time:                        17:22:50   Log-Likelihood:                 3050.4\n",
      "No. Observations:                 100   AIC:                            -6097.\n",
      "Df Residuals:                      98   BIC:                            -6092.\n",
      "Df Model:                           1                                         \n",
      "Covariance Type:            nonrobust                                         \n",
      "==============================================================================\n",
      "                 coef    std err          t      P>|t|      [0.025      0.975]\n",
      "------------------------------------------------------------------------------\n",
      "const         11.6089   2.74e-15   4.23e+15      0.000      11.609      11.609\n",
      "x1             3.0000   4.74e-16   6.33e+15      0.000       3.000       3.000\n",
      "==============================================================================\n",
      "Omnibus:                       38.175   Durbin-Watson:                   0.061\n",
      "Prob(Omnibus):                  0.000   Jarque-Bera (JB):                6.465\n",
      "Skew:                           0.110   Prob(JB):                       0.0395\n",
      "Kurtosis:                       1.774   Cond. No.                         11.7\n",
      "==============================================================================\n",
      "\n",
      "Notes:\n",
      "[1] Standard Errors assume that the covariance matrix of the errors is correctly specified.\n",
      "[11.60885711 11.91188741 12.21491771 12.51794802 12.82097832]\n"
     ]
    }
   ],
   "source": [
    "#  线性模型\n",
    "import statsmodels.api as sm\n",
    "import numpy as np\n",
    "x = np.linspace(0,10,100)\n",
    "y = 3*x + np.random.randn()+ 10\n",
    "# Fit and summarize OLS model\n",
    "X = sm.add_constant(x)\n",
    "mod = sm.OLS(y,X)\n",
    "result = mod.fit()\n",
    "print('Parameters: ', result .params)\n",
    "print('Standard errors: ', result .bse)\n",
    "print('Predicted values: ', result .predict())\n",
    "print(result.summary())\n",
    "\n",
    "\n",
    "# 预测数据\n",
    "print(result.predict(X[:5]))"
   ]
  },
  {
   "cell_type": "code",
   "execution_count": null,
   "metadata": {},
   "outputs": [],
   "source": []
  }
 ],
 "metadata": {
  "kernelspec": {
   "display_name": "Python 3",
   "language": "python",
   "name": "python3"
  },
  "language_info": {
   "codemirror_mode": {
    "name": "ipython",
    "version": 3
   },
   "file_extension": ".py",
   "mimetype": "text/x-python",
   "name": "python",
   "nbconvert_exporter": "python",
   "pygments_lexer": "ipython3",
   "version": "3.8.5"
  }
 },
 "nbformat": 4,
 "nbformat_minor": 4
}
