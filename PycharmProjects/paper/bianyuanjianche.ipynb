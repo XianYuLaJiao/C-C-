{
 "cells": [
  {
   "cell_type": "code",
   "execution_count": 1,
   "metadata": {},
   "outputs": [],
   "source": [
    "import cv2 \n",
    "import numpy as np \n",
    "from PIL import Image, ImageDraw, ImageFont"
   ]
  },
  {
   "cell_type": "code",
   "execution_count": 2,
   "metadata": {},
   "outputs": [],
   "source": [
    "def ImgText_CN(img, text, left, top, textColor=(0, 255, 0), textSize=20):\n",
    "    if (isinstance(img, np.ndarray)): \n",
    "        img = Image.fromarray(cv2.cvtColor(img, cv2.COLOR_BGR2RGB))\n",
    "    draw = ImageDraw.Draw(img)\n",
    "    fontText = ImageFont.truetype(r'C:\\Windows\\Fonts\\simsun.ttc', textSize, encoding=\"utf-8\") \n",
    "    draw.text((left, top), text, textColor, font=fontText) \n",
    "    return cv2.cvtColor(np.asarray(img), cv2.COLOR_RGB2BGR)"
   ]
  },
  {
   "cell_type": "code",
   "execution_count": 3,
   "metadata": {},
   "outputs": [],
   "source": [
    "def PointInvert(img): \n",
    "    height, width = img.shape #获取图片尺寸 \n",
    "    for i in range(height): \n",
    "        for j in range(width): \n",
    "            pi = img[i, j] \n",
    "            img[i, j] = 255 - pi \n",
    "        return img\n",
    "def cv_show(name,img):\n",
    "    cv2.imshow(name,img)\n",
    "    cv2.waitKey(20)\n",
    "    #cv2.destAllWindows()"
   ]
  },
  {
   "cell_type": "code",
   "execution_count": 4,
   "metadata": {},
   "outputs": [],
   "source": [
    "img=cv2.imread(\"0018.jpg\",0) #加载彩色图 \n",
    "img1=cv2.imread(\"0018.jpg\",1) #加载灰度图 \n",
    "#cv_show(\"0018\",img)"
   ]
  },
  {
   "cell_type": "code",
   "execution_count": 5,
   "metadata": {},
   "outputs": [],
   "source": [
    "cv_show(\"0018\",img1)"
   ]
  },
  {
   "cell_type": "code",
   "execution_count": 6,
   "metadata": {},
   "outputs": [],
   "source": [
    "recimg = img #[80:230, 90:230] #截取需要的部分 \n",
    "img2 = img1#[80:230, 90:230] #截取需要的部分 \n",
    "ret, th = cv2.threshold(recimg, 105, 225, cv2.THRESH_BINARY) #阈值操作二值化"
   ]
  },
  {
   "cell_type": "code",
   "execution_count": 7,
   "metadata": {},
   "outputs": [],
   "source": [
    "# canny边缘检测 \n",
    "edges = cv2.Canny(th, 30, 70) \n",
    "res=PointInvert(edges) #颜色反转 \n",
    "#显示图片 \n",
    "cv2.imshow('original', th) #显示二值化后的图，主题为白色，背景为黑色 更加容易找出轮廓 \n",
    "key = cv2.waitKey(0) \n",
    "if key==27: \n",
    "    #按esc键时，关闭所有窗口 \n",
    "    print(key) \n",
    "    cv2.destroyAllWindows() \n",
    "contours, hierarchy = cv2.findContours(th, cv2.RETR_EXTERNAL, cv2.CHAIN_APPROX_SIMPLE) #得到轮廓 \n",
    "cnt = contours[0] #取出轮廓"
   ]
  },
  {
   "cell_type": "code",
   "execution_count": 8,
   "metadata": {},
   "outputs": [],
   "source": [
    "#cv2.imshow('original', cnt)"
   ]
  },
  {
   "cell_type": "code",
   "execution_count": 9,
   "metadata": {},
   "outputs": [],
   "source": [
    "x, y, w, h = cv2.boundingRect(cnt) #用一个矩形将轮廓包围 \n",
    "img_gray = cv2.cvtColor(res, cv2.COLOR_GRAY2BGR) #将灰度转化为彩色图片方便画图 \n",
    "cv2.line(img_gray, (x, y), (x + w, y), (0,0,255), 2, 5) #上边缘 \n",
    "cv2.line(img_gray, (x, y+h), (x + w, y+h), (0, 0, 255), 2, 5) #下边缘 \n",
    "#img1[80:230, 90:230] = img_gray #用带有上下轮廓的图替换掉原图的对应部分 \n",
    "img1= img_gray\n",
    "res1=ImgText_CN(img1, '宽度%d'%h, 25, 25, textColor=(0, 255, 0), textSize=30) #绘制文字 \n",
    "#显示图片 \n",
    "cv2.imshow('original', res1)"
   ]
  },
  {
   "cell_type": "code",
   "execution_count": null,
   "metadata": {},
   "outputs": [],
   "source": []
  }
 ],
 "metadata": {
  "kernelspec": {
   "display_name": "Python 3",
   "language": "python",
   "name": "python3"
  },
  "language_info": {
   "codemirror_mode": {
    "name": "ipython",
    "version": 3
   },
   "file_extension": ".py",
   "mimetype": "text/x-python",
   "name": "python",
   "nbconvert_exporter": "python",
   "pygments_lexer": "ipython3",
   "version": "3.8.5"
  }
 },
 "nbformat": 4,
 "nbformat_minor": 4
}
